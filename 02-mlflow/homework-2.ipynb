{
 "cells": [
  {
   "cell_type": "markdown",
   "id": "5ec42feb-3d06-410e-b57e-63e58cf62f97",
   "metadata": {},
   "source": [
    "## Q1. Install MLflow\n",
    "\n",
    "To get started with MLflow you'll need to install the MLflow Python package.\n",
    "\n",
    "Once you installed the package, run the command `mlflow --version` and check the output.\n",
    "\n",
    "What's the version that you have?\n"
   ]
  },
  {
   "cell_type": "code",
   "execution_count": 1,
   "id": "0b614eef-338b-423b-b1b2-6735e55a897f",
   "metadata": {},
   "outputs": [
    {
     "name": "stdout",
     "output_type": "stream",
     "text": [
      "mlflow, version 2.22.0\n"
     ]
    }
   ],
   "source": [
    "!mlflow --version"
   ]
  },
  {
   "cell_type": "markdown",
   "id": "a4c42e0f-c46a-4864-bb13-cfec79f19e69",
   "metadata": {},
   "source": [
    "## Q2. Download and preprocess the data\n",
    "\n",
    "We'll use the Green Taxi Trip Records dataset to predict the duration of each trip. \n",
    "\n",
    "Download the data for January, February and March 2023 in parquet format from [here](https://www1.nyc.gov/site/tlc/about/tlc-trip-record-data.page).\n",
    "\n",
    "Use the script `preprocess_data.py` located in the folder [`homework`](homework) to preprocess the data.\n",
    "\n",
    "The script will:\n",
    "\n",
    "* load the data from the folder `<TAXI_DATA_FOLDER>` (the folder where you have downloaded the data),\n",
    "* fit a `DictVectorizer` on the training set (January 2023 data),\n",
    "* save the preprocessed datasets and the `DictVectorizer` to disk.\n",
    "\n",
    "Your task is to download the datasets and then execute this command:\n",
    "\n",
    "```\n",
    "python preprocess_data.py --raw_data_path <TAXI_DATA_FOLDER> --dest_path ./output\n",
    "```\n",
    "\n",
    "Tip: go to `02-experiment-tracking/homework/` folder before executing the command and change the value of `<TAXI_DATA_FOLDER>` to the location where you saved the data.\n",
    "\n",
    "How many files were saved to `OUTPUT_FOLDER`?\n",
    "\n",
    "* 1\n",
    "* 3\n",
    "* **4**\n",
    "* 7\n"
   ]
  },
  {
   "cell_type": "code",
   "execution_count": 2,
   "id": "8b113642-8279-4070-bb66-d9047e5e9d4a",
   "metadata": {},
   "outputs": [
    {
     "name": "stdout",
     "output_type": "stream",
     "text": [
      "total 97780\n",
      "-rw-rw-rw- 1 codespace codespace  1427002 Mar 20  2023 green_tripdata_2023-01.parquet\n",
      "-rw-rw-rw- 1 codespace codespace  1533740 May  1  2023 green_tripdata_2023-02.parquet\n",
      "-rw-rw-rw- 1 codespace codespace  1730999 May 19  2023 green_tripdata_2023-03.parquet\n",
      "-rw-rw-rw- 1 codespace codespace 47673370 Mar 20  2023 yellow_tripdata_2023-01.parquet\n",
      "-rw-rw-rw- 1 codespace codespace 47748012 May  1  2023 yellow_tripdata_2023-02.parquet\n"
     ]
    }
   ],
   "source": [
    "! ls -l ../data"
   ]
  },
  {
   "cell_type": "code",
   "execution_count": 3,
   "id": "ed6f2586-5a43-4de7-a429-dbbad3119540",
   "metadata": {},
   "outputs": [],
   "source": [
    "%run preprocess_data.py --raw_data_path ../data --dest_path ../output\n"
   ]
  },
  {
   "cell_type": "code",
   "execution_count": 4,
   "id": "793dc7db-1995-4c87-8902-e93ee54ba2e5",
   "metadata": {},
   "outputs": [
    {
     "name": "stdout",
     "output_type": "stream",
     "text": [
      "total 7016\n",
      "-rw-rw-rw- 1 codespace codespace  131004 May 17 09:02 dv.pkl\n",
      "-rw-rw-rw- 1 codespace codespace 2458698 May 17 09:02 test.pkl\n",
      "-rw-rw-rw- 1 codespace codespace 2374518 May 17 09:02 train.pkl\n",
      "-rw-rw-rw- 1 codespace codespace 2215824 May 17 09:02 val.pkl\n"
     ]
    }
   ],
   "source": [
    "! ls -l ../output"
   ]
  },
  {
   "cell_type": "markdown",
   "id": "c06fc407-d3a7-445b-8e4f-86d39c153453",
   "metadata": {},
   "source": [
    "## Q3. Train a model with autolog\n",
    "\n",
    "We will train a `RandomForestRegressor` (from Scikit-Learn) on the taxi dataset.\n",
    "\n",
    "We have prepared the training script `train.py` for this exercise, which can be also found in the folder [`homework`](homework). \n",
    "\n",
    "The script will:\n",
    "\n",
    "* load the datasets produced by the previous step,\n",
    "* train the model on the training set,\n",
    "* calculate the RMSE score on the validation set.\n",
    "\n",
    "Your task is to modify the script to enable **autologging** with MLflow, execute the script and then launch the MLflow UI to check that the experiment run was properly tracked. \n",
    "\n",
    "Tip 1: don't forget to wrap the training code with a `with mlflow.start_run():` statement as we showed in the videos.\n",
    "\n",
    "Tip 2: don't modify the hyperparameters of the model to make sure that the training will finish quickly.\n",
    "\n",
    "What is the value of the `min_samples_split` parameter:\n",
    "\n",
    "* **2**\n",
    "* 4\n",
    "* 8\n",
    "* 10\n",
    "\n"
   ]
  },
  {
   "cell_type": "markdown",
   "id": "40241ec7-c2a5-4dab-ab1d-68d4cd5c3203",
   "metadata": {},
   "source": [
    "`mlflow ui --backend-store-uri sqlite:///mlflow.db --default-artifact-root ./mlruns`"
   ]
  },
  {
   "cell_type": "code",
   "execution_count": 13,
   "id": "84713fd3-a7e2-4360-b237-f3a80407d39f",
   "metadata": {},
   "outputs": [
    {
     "name": "stderr",
     "output_type": "stream",
     "text": [
      "2025/05/17 09:26:46 INFO mlflow.tracking.fluent: Autologging successfully enabled for sklearn.\n"
     ]
    },
    {
     "name": "stdout",
     "output_type": "stream",
     "text": [
      "Validation RMSE: 29.4975\n"
     ]
    }
   ],
   "source": [
    "%run train.py --data_path ../output --experiment_name \"nyc-taxi-experiment\""
   ]
  },
  {
   "cell_type": "markdown",
   "id": "271fb49e-6735-4153-8da0-0c12ae1d411f",
   "metadata": {},
   "source": [
    "## Q4. Launch the tracking server locally\n",
    "\n",
    "Now we want to manage the entire lifecycle of our ML model. In this step, you'll need to launch a tracking server. This way we will also have access to the model registry. \n",
    "\n",
    "Your task is to:\n",
    "\n",
    "* launch the tracking server on your local machine,\n",
    "* select a SQLite db for the backend store and a folder called `artifacts` for the artifacts store.\n",
    "\n",
    "You should keep the tracking server running to work on the next two exercises that use the server.\n",
    "\n",
    "In addition to `backend-store-uri`, what else do you need to pass to properly configure the server?\n",
    "\n",
    "* **`default-artifact-root`**\n",
    "* `serve-artifacts`\n",
    "* `artifacts-only`\n",
    "* `artifacts-destination`"
   ]
  },
  {
   "cell_type": "markdown",
   "id": "81724e9b-0ee4-47f1-934d-fbf2598eecd0",
   "metadata": {},
   "source": [
    "## Q5. Tune model hyperparameters\n",
    "\n",
    "Now let's try to reduce the validation error by tuning the hyperparameters of the `RandomForestRegressor` using `hyperopt`. \n",
    "We have prepared the script `hpo.py` for this exercise. \n",
    "\n",
    "Your task is to modify the script `hpo.py` and make sure that the validation RMSE is logged to the tracking server for each run of the hyperparameter optimization (you will need to add a few lines of code to the `objective` function) and run the script without passing any parameters.\n",
    "\n",
    "After that, open UI and explore the runs from the experiment called `random-forest-hyperopt` to answer the question below.\n",
    "\n",
    "Note: Don't use autologging for this exercise.\n",
    "\n",
    "The idea is to just log the information that you need to answer the question below, including:\n",
    "\n",
    "* the list of hyperparameters that are passed to the `objective` function during the optimization,\n",
    "* the RMSE obtained on the validation set (February 2023 data).\n",
    "\n",
    "What's the best validation RMSE that you got?\n",
    "\n",
    "* 4.817\n",
    "* **5.335**\n",
    "* 5.818\n",
    "* 6.336"
   ]
  },
  {
   "cell_type": "code",
   "execution_count": 15,
   "id": "3d09f182-43b5-4c17-8ea8-84c27225d4a9",
   "metadata": {},
   "outputs": [
    {
     "name": "stdout",
     "output_type": "stream",
     "text": [
      "🏃 View run rf-hypo-train at: http://127.0.0.1:5000/#/experiments/2/runs/2d0ad0abc4f74ed09b8700beccfe7aa3                   \n",
      "\n",
      "🧪 View experiment at: http://127.0.0.1:5000/#/experiments/2                                                                \n",
      "\n",
      "🏃 View run rf-hypo-train at: http://127.0.0.1:5000/#/experiments/2/runs/fcfa1e112d7542c2b4f34a82959d435f                   \n",
      "\n",
      "🧪 View experiment at: http://127.0.0.1:5000/#/experiments/2                                                                \n",
      "\n",
      "🏃 View run rf-hypo-train at: http://127.0.0.1:5000/#/experiments/2/runs/7c0da83ff38e49429a4a98c85dd6c8e8                   \n",
      "\n",
      "🧪 View experiment at: http://127.0.0.1:5000/#/experiments/2                                                                \n",
      "\n",
      "🏃 View run rf-hypo-train at: http://127.0.0.1:5000/#/experiments/2/runs/478211e503a8419c96e48ba7d9c9fccd                   \n",
      "\n",
      "🧪 View experiment at: http://127.0.0.1:5000/#/experiments/2                                                                \n",
      "\n",
      "🏃 View run rf-hypo-train at: http://127.0.0.1:5000/#/experiments/2/runs/bafcbb0a7774427d8a99743d710a96c3                   \n",
      "\n",
      "🧪 View experiment at: http://127.0.0.1:5000/#/experiments/2                                                                \n",
      "\n",
      "🏃 View run rf-hypo-train at: http://127.0.0.1:5000/#/experiments/2/runs/fb5e854af91b402cbeb8101c9ed114cd                   \n",
      "\n",
      "🧪 View experiment at: http://127.0.0.1:5000/#/experiments/2                                                                \n",
      "\n",
      "🏃 View run rf-hypo-train at: http://127.0.0.1:5000/#/experiments/2/runs/1f035060ada34a4e80002569073e92bf                   \n",
      "\n",
      "🧪 View experiment at: http://127.0.0.1:5000/#/experiments/2                                                                \n",
      "\n",
      "🏃 View run rf-hypo-train at: http://127.0.0.1:5000/#/experiments/2/runs/c33ec0af8a9648d5a8128ae54909e582                   \n",
      "\n",
      "🧪 View experiment at: http://127.0.0.1:5000/#/experiments/2                                                                \n",
      "\n",
      "🏃 View run rf-hypo-train at: http://127.0.0.1:5000/#/experiments/2/runs/623403b0a1cd4648a88193e12e954730                   \n",
      "\n",
      "🧪 View experiment at: http://127.0.0.1:5000/#/experiments/2                                                                \n",
      "\n",
      "🏃 View run rf-hypo-train at: http://127.0.0.1:5000/#/experiments/2/runs/70667c6f05da4b0eb9fecee5ca33f9da                   \n",
      "\n",
      "🧪 View experiment at: http://127.0.0.1:5000/#/experiments/2                                                                \n",
      "\n",
      "🏃 View run rf-hypo-train at: http://127.0.0.1:5000/#/experiments/2/runs/d210fd7b464545999f916bd7ec364a1b                   \n",
      "\n",
      "🧪 View experiment at: http://127.0.0.1:5000/#/experiments/2                                                                \n",
      "\n",
      "🏃 View run rf-hypo-train at: http://127.0.0.1:5000/#/experiments/2/runs/87fc7e171f404c2a87a8b155d31ae887                   \n",
      "\n",
      "🧪 View experiment at: http://127.0.0.1:5000/#/experiments/2                                                                \n",
      "\n",
      "🏃 View run rf-hypo-train at: http://127.0.0.1:5000/#/experiments/2/runs/f838d84868d344cd8613ce9c76d667cb                   \n",
      "\n",
      "🧪 View experiment at: http://127.0.0.1:5000/#/experiments/2                                                                \n",
      "\n",
      "🏃 View run rf-hypo-train at: http://127.0.0.1:5000/#/experiments/2/runs/6d612d5aa50247ffb59466c95d898ccb                   \n",
      "\n",
      "🧪 View experiment at: http://127.0.0.1:5000/#/experiments/2                                                                \n",
      "\n",
      "🏃 View run rf-hypo-train at: http://127.0.0.1:5000/#/experiments/2/runs/7e021f802bfe45fd8cd3ba1a381de067                   \n",
      "\n",
      "🧪 View experiment at: http://127.0.0.1:5000/#/experiments/2                                                                \n",
      "\n",
      "100%|██████████████████████████████████████████████████████| 15/15 [02:20<00:00,  9.39s/trial, best loss: 5.335419588556921]\n"
     ]
    }
   ],
   "source": [
    "%run hpo.py --data_path ../output"
   ]
  },
  {
   "cell_type": "markdown",
   "id": "ccbf8758-c82b-470f-9b4f-45ecab1423cc",
   "metadata": {},
   "source": [
    "## Q6. Promote the best model to the model registry\n",
    "\n",
    "The results from the hyperparameter optimization are quite good. So, we can assume that we are ready to test some of these models in production. \n",
    "In this exercise, you'll promote the best model to the model registry. We have prepared a script called `register_model.py`, which will check the results from the previous step and select the top 5 runs. \n",
    "After that, it will calculate the RMSE of those models on the test set (March 2023 data) and save the results to a new experiment called `random-forest-best-models`.\n",
    "\n",
    "Your task is to update the script `register_model.py` so that it selects the model with the lowest RMSE on the test set and registers it to the model registry.\n",
    "\n",
    "Tip 1: you can use the method `search_runs` from the `MlflowClient` to get the model with the lowest RMSE,\n",
    "\n",
    "Tip 2: to register the model you can use the method `mlflow.register_model` and you will need to pass the right `model_uri` in the form of a string that looks like this: `\"runs:/<RUN_ID>/model\"`, and the name of the model (make sure to choose a good one!).\n",
    "\n",
    "What is the test RMSE of the best model?\n",
    "\n",
    "* 5.060\n",
    "* **5.567**\n",
    "* 6.061\n",
    "* 6.568"
   ]
  },
  {
   "cell_type": "code",
   "execution_count": 30,
   "id": "2d2d57a7-8611-4e64-b7ca-53382af47c97",
   "metadata": {},
   "outputs": [
    {
     "name": "stdout",
     "output_type": "stream",
     "text": [
      "🏃 View run unleashed-kit-70 at: http://127.0.0.1:5000/#/experiments/3/runs/67e3cc2edf214c5e8479edd92d7ba9f8\n",
      "🧪 View experiment at: http://127.0.0.1:5000/#/experiments/3\n",
      "🏃 View run sedate-auk-585 at: http://127.0.0.1:5000/#/experiments/3/runs/08f4aa724ede4748be881a861b6fb5d1\n",
      "🧪 View experiment at: http://127.0.0.1:5000/#/experiments/3\n",
      "🏃 View run resilient-fawn-191 at: http://127.0.0.1:5000/#/experiments/3/runs/8b4811ea88cb474f8c4f419e97130dcf\n",
      "🧪 View experiment at: http://127.0.0.1:5000/#/experiments/3\n",
      "🏃 View run resilient-ram-499 at: http://127.0.0.1:5000/#/experiments/3/runs/801a042cbe754823a118d1e1c2fec49d\n",
      "🧪 View experiment at: http://127.0.0.1:5000/#/experiments/3\n"
     ]
    },
    {
     "name": "stderr",
     "output_type": "stream",
     "text": [
      "Successfully registered model 'random-forest-hyperopt'.\n",
      "2025/05/17 10:45:05 INFO mlflow.store.model_registry.abstract_store: Waiting up to 300 seconds for model version to finish creation. Model name: random-forest-hyperopt, version 1\n"
     ]
    },
    {
     "name": "stdout",
     "output_type": "stream",
     "text": [
      "🏃 View run gentle-lynx-162 at: http://127.0.0.1:5000/#/experiments/3/runs/b2808f8586d54cb082580144827bd045\n",
      "🧪 View experiment at: http://127.0.0.1:5000/#/experiments/3\n"
     ]
    },
    {
     "name": "stderr",
     "output_type": "stream",
     "text": [
      "Created version '1' of model 'random-forest-hyperopt'.\n"
     ]
    }
   ],
   "source": [
    "%run register_model.py --data_path ../output"
   ]
  },
  {
   "cell_type": "code",
   "execution_count": null,
   "id": "f469609a-f62d-4a1c-bf16-c72e354c5e17",
   "metadata": {},
   "outputs": [],
   "source": []
  }
 ],
 "metadata": {
  "kernelspec": {
   "display_name": "Python 3 (ipykernel)",
   "language": "python",
   "name": "python3"
  },
  "language_info": {
   "codemirror_mode": {
    "name": "ipython",
    "version": 3
   },
   "file_extension": ".py",
   "mimetype": "text/x-python",
   "name": "python",
   "nbconvert_exporter": "python",
   "pygments_lexer": "ipython3",
   "version": "3.12.1"
  }
 },
 "nbformat": 4,
 "nbformat_minor": 5
}
